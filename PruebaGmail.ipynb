{
 "cells": [
  {
   "attachments": {},
   "cell_type": "markdown",
   "metadata": {},
   "source": [
    "## Pruebas iniciales con Selenium\n",
    "Flyp"
   ]
  },
  {
   "cell_type": "code",
   "execution_count": 30,
   "metadata": {},
   "outputs": [],
   "source": [
    "# Importaciones importantes\n",
    "\n",
    "from selenium import webdriver\n",
    "from selenium.webdriver.common.keys import Keys\n",
    "from selenium.webdriver.support import expected_conditions as EC\n",
    "from selenium.webdriver.common.by import By\n",
    "from selenium.webdriver.support.wait import WebDriverWait\n",
    "import time"
   ]
  },
  {
   "cell_type": "code",
   "execution_count": 31,
   "metadata": {},
   "outputs": [],
   "source": [
    "# Ventana del navegador que se va a abrir\n",
    "navegador = webdriver.Chrome()\n",
    "\n",
    "# Entraada a la URL ingresada\n",
    "navegador.get(\"http://www.Gmail.com\")"
   ]
  },
  {
   "cell_type": "code",
   "execution_count": 32,
   "metadata": {},
   "outputs": [],
   "source": [
    "# Loguear dentro de alguna aplicacion\n",
    "\n",
    "# Ubicarnos en un textbox\n",
    "correo = WebDriverWait(navegador, 10).until(EC.element_to_be_clickable((By.CSS_SELECTOR, \"input[name = identifier]\")))\n",
    "\n",
    "correo.clear()\n",
    "correo.send_keys(\"Flyp.code@gmail.com\")\n",
    "\n",
    "# Ubicarnos en un boton submit\n",
    "Siguiente = WebDriverWait(navegador, 10).until(EC.element_to_be_clickable((By.XPATH, \"//span[contains(text(), 'Siguiente')]\"))).click()\n",
    "# Bloqueado por la seguridad de chrome"
   ]
  }
 ],
 "metadata": {
  "kernelspec": {
   "display_name": "Python 3",
   "language": "python",
   "name": "python3"
  },
  "language_info": {
   "codemirror_mode": {
    "name": "ipython",
    "version": 3
   },
   "file_extension": ".py",
   "mimetype": "text/x-python",
   "name": "python",
   "nbconvert_exporter": "python",
   "pygments_lexer": "ipython3",
   "version": "3.9.13 (tags/v3.9.13:6de2ca5, May 17 2022, 16:36:42) [MSC v.1929 64 bit (AMD64)]"
  },
  "orig_nbformat": 4,
  "vscode": {
   "interpreter": {
    "hash": "75d7e97546f3f779c2f1c3987c73a9e3c88127590789d109a23ce07b21b1a428"
   }
  }
 },
 "nbformat": 4,
 "nbformat_minor": 2
}
